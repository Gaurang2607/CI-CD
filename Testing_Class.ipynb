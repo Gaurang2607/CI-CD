{
  "nbformat": 4,
  "nbformat_minor": 0,
  "metadata": {
    "colab": {
      "provenance": [],
      "authorship_tag": "ABX9TyOsxzRvIj371zLOx8I6cwQn",
      "include_colab_link": true
    },
    "kernelspec": {
      "name": "python3",
      "display_name": "Python 3"
    },
    "language_info": {
      "name": "python"
    }
  },
  "cells": [
    {
      "cell_type": "markdown",
      "metadata": {
        "id": "view-in-github",
        "colab_type": "text"
      },
      "source": [
        "<a href=\"https://colab.research.google.com/github/Gaurang2607/CI-CD/blob/main/Testing_Class.ipynb\" target=\"_parent\"><img src=\"https://colab.research.google.com/assets/colab-badge.svg\" alt=\"Open In Colab\"/></a>"
      ]
    },
    {
      "cell_type": "code",
      "source": [
        "pip install selenium"
      ],
      "metadata": {
        "colab": {
          "base_uri": "https://localhost:8080/"
        },
        "id": "Ji61GxGQx0S1",
        "outputId": "38d57e61-56da-4008-f344-8b8e4d8eea84"
      },
      "execution_count": 1,
      "outputs": [
        {
          "output_type": "stream",
          "name": "stdout",
          "text": [
            "Collecting selenium\n",
            "  Downloading selenium-4.26.1-py3-none-any.whl.metadata (7.1 kB)\n",
            "Requirement already satisfied: urllib3<3,>=1.26 in /usr/local/lib/python3.10/dist-packages (from urllib3[socks]<3,>=1.26->selenium) (2.2.3)\n",
            "Collecting trio~=0.17 (from selenium)\n",
            "  Downloading trio-0.27.0-py3-none-any.whl.metadata (8.6 kB)\n",
            "Collecting trio-websocket~=0.9 (from selenium)\n",
            "  Downloading trio_websocket-0.11.1-py3-none-any.whl.metadata (4.7 kB)\n",
            "Requirement already satisfied: certifi>=2021.10.8 in /usr/local/lib/python3.10/dist-packages (from selenium) (2024.8.30)\n",
            "Requirement already satisfied: typing_extensions~=4.9 in /usr/local/lib/python3.10/dist-packages (from selenium) (4.12.2)\n",
            "Requirement already satisfied: websocket-client~=1.8 in /usr/local/lib/python3.10/dist-packages (from selenium) (1.8.0)\n",
            "Requirement already satisfied: attrs>=23.2.0 in /usr/local/lib/python3.10/dist-packages (from trio~=0.17->selenium) (24.2.0)\n",
            "Collecting sortedcontainers (from trio~=0.17->selenium)\n",
            "  Downloading sortedcontainers-2.4.0-py2.py3-none-any.whl.metadata (10 kB)\n",
            "Requirement already satisfied: idna in /usr/local/lib/python3.10/dist-packages (from trio~=0.17->selenium) (3.10)\n",
            "Collecting outcome (from trio~=0.17->selenium)\n",
            "  Downloading outcome-1.3.0.post0-py2.py3-none-any.whl.metadata (2.6 kB)\n",
            "Requirement already satisfied: sniffio>=1.3.0 in /usr/local/lib/python3.10/dist-packages (from trio~=0.17->selenium) (1.3.1)\n",
            "Requirement already satisfied: exceptiongroup in /usr/local/lib/python3.10/dist-packages (from trio~=0.17->selenium) (1.2.2)\n",
            "Collecting wsproto>=0.14 (from trio-websocket~=0.9->selenium)\n",
            "  Downloading wsproto-1.2.0-py3-none-any.whl.metadata (5.6 kB)\n",
            "Requirement already satisfied: pysocks!=1.5.7,<2.0,>=1.5.6 in /usr/local/lib/python3.10/dist-packages (from urllib3[socks]<3,>=1.26->selenium) (1.7.1)\n",
            "Requirement already satisfied: h11<1,>=0.9.0 in /usr/local/lib/python3.10/dist-packages (from wsproto>=0.14->trio-websocket~=0.9->selenium) (0.14.0)\n",
            "Downloading selenium-4.26.1-py3-none-any.whl (9.7 MB)\n",
            "\u001b[2K   \u001b[90m━━━━━━━━━━━━━━━━━━━━━━━━━━━━━━━━━━━━━━━━\u001b[0m \u001b[32m9.7/9.7 MB\u001b[0m \u001b[31m41.1 MB/s\u001b[0m eta \u001b[36m0:00:00\u001b[0m\n",
            "\u001b[?25hDownloading trio-0.27.0-py3-none-any.whl (481 kB)\n",
            "\u001b[2K   \u001b[90m━━━━━━━━━━━━━━━━━━━━━━━━━━━━━━━━━━━━━━━━\u001b[0m \u001b[32m481.7/481.7 kB\u001b[0m \u001b[31m19.4 MB/s\u001b[0m eta \u001b[36m0:00:00\u001b[0m\n",
            "\u001b[?25hDownloading trio_websocket-0.11.1-py3-none-any.whl (17 kB)\n",
            "Downloading wsproto-1.2.0-py3-none-any.whl (24 kB)\n",
            "Downloading outcome-1.3.0.post0-py2.py3-none-any.whl (10 kB)\n",
            "Downloading sortedcontainers-2.4.0-py2.py3-none-any.whl (29 kB)\n",
            "Installing collected packages: sortedcontainers, wsproto, outcome, trio, trio-websocket, selenium\n",
            "Successfully installed outcome-1.3.0.post0 selenium-4.26.1 sortedcontainers-2.4.0 trio-0.27.0 trio-websocket-0.11.1 wsproto-1.2.0\n"
          ]
        }
      ]
    },
    {
      "cell_type": "code",
      "execution_count": 6,
      "metadata": {
        "id": "5Zvz9XOB4WU0",
        "colab": {
          "base_uri": "https://localhost:8080/"
        },
        "outputId": "88f5853d-5819-47a3-e1d7-63324bb08cc5"
      },
      "outputs": [
        {
          "output_type": "stream",
          "name": "stdout",
          "text": [
            "File downloaded successfully: /content/downloads/random_data.txt\n"
          ]
        }
      ],
      "source": [
        "from selenium import webdriver\n",
        "from selenium.webdriver.common.by import By\n",
        "import os\n",
        "import time\n",
        "\n",
        "# Step 1: Set up download directory\n",
        "download_dir = os.path.join(os.getcwd(), \"downloads\")  # Download to a \"downloads\" folder in the current directory\n",
        "if not os.path.exists(download_dir):\n",
        "    os.makedirs(download_dir)\n",
        "\n",
        "# Step 2: Configure browser options for file download\n",
        "options = webdriver.ChromeOptions()\n",
        "prefs = {\n",
        "    \"download.default_directory\": download_dir,  # Set the download directory\n",
        "    \"download.prompt_for_download\": False,      # Disable download prompts\n",
        "    \"safebrowsing.enabled\": True                # Enable safe browsing\n",
        "}\n",
        "options.add_experimental_option(\"prefs\", prefs)\n",
        "\n",
        "# Add arguments to resolve the error\n",
        "options.add_argument(\"--headless\") # Run Chrome in headless mode\n",
        "options.add_argument(\"--no-sandbox\") # Disable the sandbox\n",
        "\n",
        "# Step 3: Initialize WebDriver with configured options\n",
        "driver = webdriver.Chrome(options=options)\n",
        "\n",
        "try:\n",
        "    # Step 4: Navigate to the File Download page\n",
        "    driver.get(\"https://the-internet.herokuapp.com/download\")\n",
        "\n",
        "    # Step 5: Locate and click on a file link to download (e.g., \"some-file.txt\")\n",
        "    file_link = driver.find_element(By.LINK_TEXT, \"random_data.txt\")  # Replace with an actual file name if needed\n",
        "    file_name = file_link.text\n",
        "    file_link.click()\n",
        "\n",
        "    # Step 6: Wait for the file to download\n",
        "    time.sleep(5)  # Adjust time based on file size and internet speed\n",
        "\n",
        "    # Step 7: Verify the file was downloaded\n",
        "    downloaded_file_path = os.path.join(download_dir, file_name)\n",
        "    if os.path.exists(downloaded_file_path):\n",
        "        print(f\"File downloaded successfully: {downloaded_file_path}\")\n",
        "    else:\n",
        "        print(f\"File download failed. File not found: {downloaded_file_path}\")\n",
        "\n",
        "finally:\n",
        "    # Step 8: Close the browser\n",
        "    driver.quit()"
      ]
    },
    {
      "cell_type": "code",
      "source": [],
      "metadata": {
        "id": "CVMyoRqlx-Uq"
      },
      "execution_count": null,
      "outputs": []
    }
  ]
}